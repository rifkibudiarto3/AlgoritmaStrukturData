{
 "cells": [
  {
   "cell_type": "code",
   "execution_count": 2,
   "metadata": {},
   "outputs": [
    {
     "name": "stdout",
     "output_type": "stream",
     "text": [
      "hasil 10 + 5 = 15\n",
      "hasil 10 - 5 = 5\n",
      "hasil 10 x 5 = 50\n",
      "hasil 10 : 5 = 2.0\n",
      "hasil 10 sisa bagi 5 = 0\n",
      "hasil 10 pangkat 5 = 100000\n"
     ]
    }
   ],
   "source": [
    "#noor rifki budiarto\n",
    "\n",
    "a = 10\n",
    "b = 5\n",
    "#penjumlahan\n",
    "c = a+b\n",
    "print (\"hasil\",a,\"+\",b,\"=\",c)\n",
    "#pengurangan\n",
    "d = a-b\n",
    "print (\"hasil\",a,\"-\",b,\"=\",d)\n",
    "#perkalian\n",
    "e = a*b\n",
    "print (\"hasil\",a,\"x\",b,\"=\",e)\n",
    "#pembagian\n",
    "f = a/b\n",
    "print (\"hasil\",a,\":\",b,\"=\",f)\n",
    "#sisa bagi\n",
    "g = a%b\n",
    "print (\"hasil\",a,\"sisa bagi\",b,\"=\",g)\n",
    "#pemangkatan\n",
    "h = a**b\n",
    "print (\"hasil\",a,\"pangkat\",b,\"=\",h)"
   ]
  },
  {
   "cell_type": "code",
   "execution_count": 3,
   "metadata": {},
   "outputs": [
    {
     "name": "stdout",
     "output_type": "stream",
     "text": [
      "27\n",
      "32\n",
      "27\n",
      "135\n",
      "27.0\n",
      "2.0\n",
      "32.0\n"
     ]
    }
   ],
   "source": [
    "#pengisian\n",
    "a = 27\n",
    "print(a)\n",
    "#penjumlahan\n",
    "a+= 5\n",
    "print(a)\n",
    "#pengurangan\n",
    "a-= 5\n",
    "print(a)\n",
    "#perkalian\n",
    "a*= 5\n",
    "print(a)\n",
    "#pembagian\n",
    "a/= 5\n",
    "print(a)\n",
    "#sisa bagi\n",
    "a%= 5\n",
    "print(a)\n",
    "#pemangkatan\n",
    "a**= 5\n",
    "print(a)"
   ]
  },
  {
   "cell_type": "code",
   "execution_count": 4,
   "metadata": {},
   "outputs": [
    {
     "name": "stdout",
     "output_type": "stream",
     "text": [
      "apakah a lebih besar dengan b: True\n",
      "apakah a lebih kecil dengan b: False\n",
      "apakah a sama dengan b: False\n",
      "apakah a tidak sama dengan b: True\n",
      "apakah a lebih besar sama dengan b: True\n",
      "apakah a lebih kecil sama dengan b: False\n"
     ]
    }
   ],
   "source": [
    "a = 15\n",
    "\n",
    "b = 10\n",
    "#apakah a lebih besar dari b\n",
    "c = a>b\n",
    "print(\"apakah a lebih besar dengan b:\",c)\n",
    "#apakah a lebih kecil dengan b\n",
    "d = a<b\n",
    "print(\"apakah a lebih kecil dengan b:\",d)\n",
    "#apakah a sama dengan b\n",
    "e = a==b\n",
    "print(\"apakah a sama dengan b:\",e)\n",
    "#apakah a tidak sama dengan b\n",
    "f = a!= b\n",
    "print(\"apakah a tidak sama dengan b:\",f)\n",
    "#apakah a lebih besar sama dengan b\n",
    "g = a>=b\n",
    "print(\"apakah a lebih besar sama dengan b:\",g)\n",
    "#apakah a lebih kecil sama dengan b\n",
    "h = a<=b\n",
    "print(\"apakah a lebih kecil sama dengan b:\",h)"
   ]
  },
  {
   "cell_type": "code",
   "execution_count": 5,
   "metadata": {},
   "outputs": [
    {
     "name": "stdout",
     "output_type": "stream",
     "text": [
      "False\n",
      "True\n"
     ]
    },
    {
     "data": {
      "text/plain": [
       "False"
      ]
     },
     "execution_count": 5,
     "metadata": {},
     "output_type": "execute_result"
    }
   ],
   "source": [
    "a = True\n",
    "b = False\n",
    "#Logika AND\n",
    "c = a and b\n",
    "print(c)\n",
    "#Logika OR\n",
    "d = a or b\n",
    "print(d)\n",
    "#negasi/kebalikan\n",
    "not a"
   ]
  },
  {
   "cell_type": "code",
   "execution_count": 1,
   "metadata": {},
   "outputs": [
    {
     "name": "stdout",
     "output_type": "stream",
     "text": [
      "nama bayi? kayla salsabilla\n",
      "berat bayi9\n",
      "nama bayi adalah: kayla salsabilla berat dalam kg: 9 Kg,berat dalam ons: 90 ons,berat bayi dalam 1 bulan kedepan adalah 120 ons\n"
     ]
    }
   ],
   "source": [
    "#input\n",
    "nama = input(\"nama bayi? \")\n",
    "berat = int(input(\"berat bayi\"))\n",
    "ons = berat * 10\n",
    "ons1 = ons + 30\n",
    "print(\"nama bayi adalah:\",nama,\"berat dalam kg:\",berat,\"Kg,berat dalam ons:\",ons,\"ons,berat bayi dalam 1 bulan kedepan adalah\",ons1,\"ons\")"
   ]
  },
  {
   "cell_type": "code",
   "execution_count": null,
   "metadata": {},
   "outputs": [],
   "source": []
  }
 ],
 "metadata": {
  "kernelspec": {
   "display_name": "Python 3",
   "language": "python",
   "name": "python3"
  },
  "language_info": {
   "codemirror_mode": {
    "name": "ipython",
    "version": 3
   },
   "file_extension": ".py",
   "mimetype": "text/x-python",
   "name": "python",
   "nbconvert_exporter": "python",
   "pygments_lexer": "ipython3",
   "version": "3.8.3"
  }
 },
 "nbformat": 4,
 "nbformat_minor": 4
}
