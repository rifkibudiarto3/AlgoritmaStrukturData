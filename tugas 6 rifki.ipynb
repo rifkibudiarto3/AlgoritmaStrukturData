{
 "cells": [
  {
   "cell_type": "code",
   "execution_count": 12,
   "metadata": {},
   "outputs": [
    {
     "name": "stdout",
     "output_type": "stream",
     "text": [
      "masukan nilaimu65\n",
      "Selamat anda lulus\n"
     ]
    }
   ],
   "source": [
    "#soal 1\n",
    "nilai = int(input(\"masukan nilaimu\"))\n",
    "\n",
    "if nilai < 70:\n",
    "    print(\"Selamat anda lulus\")"
   ]
  },
  {
   "cell_type": "code",
   "execution_count": 10,
   "metadata": {},
   "outputs": [
    {
     "name": "stdout",
     "output_type": "stream",
     "text": [
      "masukan jari jari30\n",
      "luas lingkaran adalah 2826.0 jadi\n",
      "lingkaran ini lebih besar\n"
     ]
    }
   ],
   "source": [
    "#soal 2\n",
    "rad = int(input(\"masukan jari jari\"))\n",
    "\n",
    "luas = 3.14*rad*rad\n",
    "print(\"luas lingkaran adalah\",luas, \"jadi\")\n",
    "if luas >= 314:\n",
    "    print(\"lingkaran ini lebih besar\")\n",
    "else:\n",
    "    print(\"lingkaran ini kecil\")"
   ]
  },
  {
   "cell_type": "code",
   "execution_count": 20,
   "metadata": {},
   "outputs": [
    {
     "name": "stdout",
     "output_type": "stream",
     "text": [
      "nomer program[1/2] 2\n",
      "sisi 5\n",
      "volume kubus: 125\n"
     ]
    }
   ],
   "source": [
    "#soal 3\n",
    "def balok():\n",
    "    p=int(input(\"panjang\"))\n",
    "    l=int(input(\"lebar\"))\n",
    "    t=int(input(\"tinggi\"))\n",
    "    v_balok=p*l*t\n",
    "    return v_balok\n",
    "def kubus():\n",
    "    s=int(input(\"sisi\"))\n",
    "    v_kubus=s*s*s\n",
    "    return v_kubus\n",
    "nomer=int(input(\"nomer program[1/2]\"))\n",
    "if nomer ==1:\n",
    "    print(\"volume balok:\", balok())\n",
    "elif nomer==2:\n",
    "    print(\"volume kubus:\", kubus())\n",
    "else:\n",
    "    print(\"program tidak tersedia\")"
   ]
  },
  {
   "cell_type": "code",
   "execution_count": null,
   "metadata": {},
   "outputs": [],
   "source": []
  }
 ],
 "metadata": {
  "kernelspec": {
   "display_name": "Python 3",
   "language": "python",
   "name": "python3"
  },
  "language_info": {
   "codemirror_mode": {
    "name": "ipython",
    "version": 3
   },
   "file_extension": ".py",
   "mimetype": "text/x-python",
   "name": "python",
   "nbconvert_exporter": "python",
   "pygments_lexer": "ipython3",
   "version": "3.8.3"
  }
 },
 "nbformat": 4,
 "nbformat_minor": 4
}
